{
 "cells": [
  {
   "cell_type": "markdown",
   "metadata": {},
   "source": [
    "# 2.1. Problem Statement: PYTHON 1"
   ]
  },
  {
   "cell_type": "code",
   "execution_count": 1,
   "metadata": {},
   "outputs": [
    {
     "name": "stdout",
     "output_type": "stream",
     "text": [
      "[2000, 2005, 2010, 2015, 2020, 2025, 2035, 2040, 2045, 2050, 2055, 2060, 2070, 2075, 2080, 2085, 2090, 2095, 2105, 2110, 2115, 2120, 2125, 2130, 2140, 2145, 2150, 2155, 2160, 2165, 2175, 2180, 2185, 2190, 2195, 2200, 2210, 2215, 2220, 2225, 2230, 2235, 2245, 2250, 2255, 2260, 2265, 2270, 2280, 2285, 2290, 2295, 2300, 2305, 2315, 2320, 2325, 2330, 2335, 2340, 2350, 2355, 2360, 2365, 2370, 2375, 2385, 2390, 2395, 2400, 2405, 2410, 2420, 2425, 2430, 2435, 2440, 2445, 2455, 2460, 2465, 2470, 2475, 2480, 2490, 2495, 2500, 2505, 2510, 2515, 2525, 2530, 2535, 2540, 2545, 2550, 2560, 2565, 2570, 2575, 2580, 2585, 2595, 2600, 2605, 2610, 2615, 2620, 2630, 2635, 2640, 2645, 2650, 2655, 2665, 2670, 2675, 2680, 2685, 2690, 2700, 2705, 2710, 2715, 2720, 2725, 2735, 2740, 2745, 2750, 2755, 2760, 2770, 2775, 2780, 2785, 2790, 2795, 2805, 2810, 2815, 2820, 2825, 2830, 2840, 2845, 2850, 2855, 2860, 2865, 2875, 2880, 2885, 2890, 2895, 2900, 2910, 2915, 2920, 2925, 2930, 2935, 2945, 2950, 2955, 2960, 2965, 2970, 2980, 2985, 2990, 2995, 3000, 3005, 3015, 3020, 3025, 3030, 3035, 3040, 3050, 3055, 3060, 3065, 3070, 3075, 3085, 3090, 3095, 3100, 3105, 3110, 3120, 3125, 3130, 3135, 3140, 3145, 3155, 3160, 3165, 3170, 3175, 3180, 3190, 3195, 3200]\n"
     ]
    }
   ],
   "source": [
    "'''Write a program which will find all such numbers which are divisible by 7 but are not a\n",
    "multiple of 5, between 2000 and 3200 (both included). The numbers obtained should be printed\n",
    "in a comma-separated sequence on a single'''\n",
    "list = [ i for i in range(2000,3201) if i % 5 == 0 and i % 7 != 0 ]\n",
    "print(list)"
   ]
  },
  {
   "cell_type": "code",
   "execution_count": 2,
   "metadata": {},
   "outputs": [
    {
     "name": "stdout",
     "output_type": "stream",
     "text": [
      "Enter the first name: lakshmi\n",
      "Enter the last name: tarani\n",
      "inarat imhskal\n"
     ]
    }
   ],
   "source": [
    "'''Write a Python program to accept the user's first and last name and then getting them\n",
    "printed in the the reverse order with a space between first name and last name.\n",
    "'''\n",
    "firstname = input(\"Enter the first name: \")\n",
    "lastname = input(\"Enter the last name: \")\n",
    "f_name = firstname[::-1]\n",
    "l_name = lastname[::-1]\n",
    "reversename = l_name + \" \" + f_name\n",
    "print(reversename)\n"
   ]
  },
  {
   "cell_type": "code",
   "execution_count": 3,
   "metadata": {},
   "outputs": [
    {
     "name": "stdout",
     "output_type": "stream",
     "text": [
      "Volume of the sphere:  904.3199999999998\n"
     ]
    }
   ],
   "source": [
    "''' Write a Python program to find the volume of a sphere with diameter 12 cm.\n",
    "Formula: V=4/3 * π * r 3\n",
    "'''\n",
    "pi = 3.14\n",
    "r = 6\n",
    "v = 4.0 / 3.0 * pi * r * r * r\n",
    "print(\"Volume of the sphere: \" ,v)\n"
   ]
  },
  {
   "cell_type": "markdown",
   "metadata": {},
   "source": [
    "# 2.2 Problem Statement: PYTHON 2"
   ]
  },
  {
   "cell_type": "code",
   "execution_count": 4,
   "metadata": {},
   "outputs": [
    {
     "name": "stdout",
     "output_type": "stream",
     "text": [
      "Enter some numbers saperated by ,5,6,7,8\n",
      "List is : ['5', '6', '7', '8']\n"
     ]
    }
   ],
   "source": [
    "#Write a program which accepts a sequence of comma-separated numbers from console and generate a list.\n",
    "list1 = input(\"Enter some numbers saperated by ,\")\n",
    "values = list1.split(\",\")\n",
    "tuples = tuple(values)\n",
    "print(\"List is :\" ,values)"
   ]
  },
  {
   "cell_type": "code",
   "execution_count": 5,
   "metadata": {},
   "outputs": [
    {
     "name": "stdout",
     "output_type": "stream",
     "text": [
      "* \n",
      "* * \n",
      "* * * \n",
      "* * * * \n",
      "* * * * * \n",
      "* * * * \n",
      "* * * \n",
      "* * \n",
      "* \n",
      "\n"
     ]
    }
   ],
   "source": [
    "'''\n",
    "Create the below pattern using nested for loop in Python.\n",
    "*\n",
    "* *\n",
    "* * *\n",
    "* * * *\n",
    "* * * * *\n",
    "* * * *\n",
    "* * *\n",
    "* *\n",
    "*\n",
    "'''\n",
    "n = 5\n",
    "for i in range(n):\n",
    "    for j in range(i+1):\n",
    "        print('* ', end='')   \n",
    "    print()\n",
    "for i in range(n):\n",
    "    for j in range(n-1-i):\n",
    "        print('* ',end='')\n",
    "    print()"
   ]
  },
  {
   "cell_type": "code",
   "execution_count": 6,
   "metadata": {},
   "outputs": [
    {
     "name": "stdout",
     "output_type": "stream",
     "text": [
      "Please enter a word: ABCDEFG\n",
      "Reverse of the word:  GFEDCBA\n"
     ]
    }
   ],
   "source": [
    "#Write a Python program to reverse a word after accepting the input from the user.\n",
    "word = input(\"Please enter a word: \")\n",
    "word_reverse = word[::-1]\n",
    "print(\"Reverse of the word: \" ,word_reverse)"
   ]
  },
  {
   "cell_type": "code",
   "execution_count": 7,
   "metadata": {},
   "outputs": [
    {
     "name": "stdout",
     "output_type": "stream",
     "text": [
      "WE, THE PEOPLE OF INDIA,\n",
      "\t having solemnly resolved to constitute India into a SOVEREIGN ,!\n",
      "\t\t SOCIALIST, SECULAR, DEMOCRATIC REPUBLIC \n",
      "\t\tand to secure to all its citizens\n"
     ]
    }
   ],
   "source": [
    "'''\n",
    "Write a Python Program to print the given string in the format specified in the sample\n",
    "output.\n",
    "WE, THE PEOPLE OF INDIA, having solemnly resolved to constitute India into a SOVEREIGN,\n",
    "SOCIALIST, SECULAR, DEMOCRATIC REPUBLIC and to secure to all its citizens\n",
    "'''\n",
    "print(\"WE, THE PEOPLE OF INDIA,\\n\\t having solemnly resolved to constitute India into a SOVEREIGN ,!\\n\\t\\t SOCIALIST, SECULAR, DEMOCRATIC REPUBLIC \\n\\t\\tand to secure to all its citizens\")"
   ]
  },
  {
   "cell_type": "markdown",
   "metadata": {},
   "source": [
    "# 2.3. Problem Statement: PYTHON 3"
   ]
  },
  {
   "cell_type": "code",
   "execution_count": 8,
   "metadata": {},
   "outputs": [],
   "source": [
    "'''\n",
    "Write a Python Program to implement your own myreduce() function which works exactly\n",
    "like Python's built-in function reduce()\n",
    "\n",
    "'''\n",
    "# creating the myreduce()\n",
    "def myreduce(myfunc,seq):\n",
    "    temp = seq[0]\n",
    "    for i in seq[1::]:\n",
    "        temp = myfunc(temp,i)\n",
    "    return temp"
   ]
  },
  {
   "cell_type": "code",
   "execution_count": 9,
   "metadata": {},
   "outputs": [],
   "source": [
    "# creating the multiplication function with the name mul\n",
    "def mul(a,b): return a * b"
   ]
  },
  {
   "cell_type": "code",
   "execution_count": 10,
   "metadata": {},
   "outputs": [
    {
     "data": {
      "text/plain": [
       "120"
      ]
     },
     "execution_count": 10,
     "metadata": {},
     "output_type": "execute_result"
    }
   ],
   "source": [
    "myreduce(mul,[1,2,3,4,5])"
   ]
  },
  {
   "cell_type": "code",
   "execution_count": 11,
   "metadata": {},
   "outputs": [],
   "source": [
    "'''\n",
    "1.2 Write a Python program to implement your own myfilter() function which works exactly like\n",
    "Python's built-in function filter()\n",
    "\n",
    "'''\n",
    "#Creating the myfilter()\n",
    "def myfilter(myfunc,seq):\n",
    "    temp = []\n",
    "    for items in seq:\n",
    "        if myfunc(items):\n",
    "            temp.append(items)\n",
    "    return temp"
   ]
  },
  {
   "cell_type": "code",
   "execution_count": 12,
   "metadata": {},
   "outputs": [],
   "source": [
    "# creating the ispositive function\n",
    "def ispositive(x):\n",
    "    if x <= 0:\n",
    "        return False\n",
    "    else:\n",
    "        return True"
   ]
  },
  {
   "cell_type": "code",
   "execution_count": 13,
   "metadata": {},
   "outputs": [
    {
     "data": {
      "text/plain": [
       "[8, 7, 18]"
      ]
     },
     "execution_count": 13,
     "metadata": {},
     "output_type": "execute_result"
    }
   ],
   "source": [
    "myfilter(ispositive,[-5,-9,0,8,7,-2,-4,18 ])"
   ]
  },
  {
   "cell_type": "code",
   "execution_count": 14,
   "metadata": {},
   "outputs": [
    {
     "name": "stdout",
     "output_type": "stream",
     "text": [
      "['A', 'C', 'A', 'D', 'G', 'I', 'L', 'D']\n"
     ]
    }
   ],
   "source": [
    "#Using List Comprehensions ['A', 'C', 'A', 'D', 'G', 'I', ’L’, ‘ D’]\n",
    "string = \"acadgild\"\n",
    "result1 = [i for i in string.upper()]\n",
    "print(result1)"
   ]
  },
  {
   "cell_type": "code",
   "execution_count": 15,
   "metadata": {},
   "outputs": [
    {
     "name": "stdout",
     "output_type": "stream",
     "text": [
      "['x', 'xx', 'xxx', 'xxxx', 'y', 'yy', 'yyy', 'yyyy', 'z', 'zz', 'zzz', 'zzzz']\n"
     ]
    }
   ],
   "source": [
    "#['x', 'xx', 'xxx', 'xxxx', 'y', 'yy', 'yyy', 'yyyy', 'z', 'zz', 'zzz', 'zzzz']\n",
    "list_ = ['x','y','z']\n",
    "result =  [item*num for item in list_ for num in range(1,5)]\n",
    "print(result)"
   ]
  },
  {
   "cell_type": "code",
   "execution_count": 16,
   "metadata": {},
   "outputs": [
    {
     "name": "stdout",
     "output_type": "stream",
     "text": [
      "['x', 'y', 'z', 'xx', 'yy', 'zz', 'xxx', 'yyy', 'zzz', 'xxxx', 'yyyy', 'zzzz']\n"
     ]
    }
   ],
   "source": [
    "#['x', 'y', 'z', 'xx', 'yy', 'zz', 'xxx', 'yyy', 'zzz', 'xxxx', 'yyyy', 'zzzz']\n",
    "list_ = ['x','y','z']\n",
    "result = [item*num for num in range(1,5) for item in list_]\n",
    "print(result)"
   ]
  },
  {
   "cell_type": "code",
   "execution_count": 17,
   "metadata": {},
   "outputs": [
    {
     "name": "stdout",
     "output_type": "stream",
     "text": [
      "[[2], [3], [4], [3], [4], [5], [4], [5], [6]]\n"
     ]
    }
   ],
   "source": [
    "# [[2], [3], [4], [3], [4], [5], [4], [5], [6]]\n",
    "list_ = [2,3,4]\n",
    "result = [[i+j] for i in list_ for j in range(3)]\n",
    "print(result)"
   ]
  },
  {
   "cell_type": "code",
   "execution_count": 18,
   "metadata": {},
   "outputs": [
    {
     "name": "stdout",
     "output_type": "stream",
     "text": [
      "[[2, 3, 4, 5], [3, 4, 5, 6], [4, 5, 6, 7], [5, 6, 7, 8]]\n"
     ]
    }
   ],
   "source": [
    "#[[2, 3, 4, 5], [3, 4, 5, 6], [4, 5, 6, 7], [5, 6, 7, 8]]\n",
    "list_ = [2,3,4,5]\n",
    "result = [[i+j for i in list_] for j in range(0,4)]\n",
    "print(result)"
   ]
  },
  {
   "cell_type": "code",
   "execution_count": 19,
   "metadata": {},
   "outputs": [
    {
     "name": "stdout",
     "output_type": "stream",
     "text": [
      "[(1, 1), (2, 1), (3, 1), (1, 2), (2, 2), (3, 2), (1, 3), (2, 3), (3, 3)]\n"
     ]
    }
   ],
   "source": [
    "# [(1, 1), (2, 1), (3, 1), (1, 2), (2, 2), (3, 2), (1, 3), (2, 3), (3, 3)]\n",
    "list_ = [1,2,3]\n",
    "result = [(j,i) for i in list_ for j in list_]\n",
    "print(result)"
   ]
  },
  {
   "cell_type": "code",
   "execution_count": 20,
   "metadata": {},
   "outputs": [],
   "source": [
    "# Implement a function longestWord() that takes a list of words and returns the longest one.\n",
    "\n",
    "def longest_word(word_list):\n",
    "    sentencelist = word_list.split()\n",
    "    print(sentencelist)\n",
    "    word_len = []\n",
    "    for a_word in sentencelist:\n",
    "        if len(a_word) > len(word_len):\n",
    "            word_len = a_word\n",
    "    print(\"Longest word is: \",word_len)\n",
    "    #return word_len      "
   ]
  },
  {
   "cell_type": "code",
   "execution_count": 21,
   "metadata": {},
   "outputs": [
    {
     "name": "stdout",
     "output_type": "stream",
     "text": [
      "['Happy', 'learning', 'in', 'ACADGILD!']\n",
      "Longest word is:  ACADGILD!\n"
     ]
    }
   ],
   "source": [
    "longest_word(\"Happy learning in ACADGILD!\")"
   ]
  },
  {
   "cell_type": "markdown",
   "metadata": {},
   "source": [
    "# 2.4. Problem Statement: PYTHON 4"
   ]
  },
  {
   "cell_type": "code",
   "execution_count": 33,
   "metadata": {},
   "outputs": [
    {
     "name": "stdout",
     "output_type": "stream",
     "text": [
      "Area of the Triangle: 6.0\n"
     ]
    }
   ],
   "source": [
    "'''\n",
    "1.1 Write a Python Program(with class concepts) to find the area of the triangle using the below\n",
    "formula.\n",
    "area = (s*(s-a)*(s-b)*(s-c)) ** 0.5\n",
    "Function to take the length of the sides of triangle from user should be defined in the parent\n",
    "class and function to calculate the area should be defined in subclass.\n",
    "\n",
    "'''\n",
    "# creating the parent class with the name Length\n",
    "class Length():\n",
    "    def __init__(self,a,b,c):\n",
    "        self.a = a\n",
    "        self.b = b\n",
    "        self.c = c\n",
    "        \n",
    "# creating the child class with the name Area\n",
    "class Area(Length):\n",
    "    def __init__(self,a,b,c):\n",
    "        super().__init__(a,b,c)\n",
    "    def Area_triangle(self):\n",
    "        s = (self.a + self.b + self.c) / 2\n",
    "        return ((s*(s-self.a)*(s-self.b)*(s-self.c)) ** 0.5)  \n",
    "\n",
    "objl = Area(5,4,3)\n",
    "#objl.Area_triangle()\n",
    "print(\"Area of the Triangle:\",objl.Area_triangle())"
   ]
  },
  {
   "cell_type": "code",
   "execution_count": 23,
   "metadata": {},
   "outputs": [],
   "source": [
    "'''\n",
    "Write a function filter_long_words() that takes a list of words and an integer n and returns\n",
    "the list of words that are longer than n.\n",
    "\n",
    "'''\n",
    "def filter_long_words(lwords,n):\n",
    "    split_words = lwords.split()\n",
    "    return [temp for temp in split_words if len(temp) > n]\n",
    "          "
   ]
  },
  {
   "cell_type": "code",
   "execution_count": 24,
   "metadata": {},
   "outputs": [
    {
     "data": {
      "text/plain": [
       "['Function', 'length', 'sides', 'triangle', 'should', 'defined', 'parent']"
      ]
     },
     "execution_count": 24,
     "metadata": {},
     "output_type": "execute_result"
    }
   ],
   "source": [
    "filter_long_words('Function to take the length of the sides of triangle from user should be defined in the parent',4)"
   ]
  },
  {
   "cell_type": "code",
   "execution_count": 25,
   "metadata": {},
   "outputs": [],
   "source": [
    "'''\n",
    "Write a Python program using function concept that maps list of words into a list of integers\n",
    "representing the lengths of the corresponding words.\n",
    "Hint: If a list [ ab,cde,erty] is passed on to the python function output should come as [2,3,4]\n",
    "Here 2,3 and 4 are the lengths of the words in the list.\n",
    "\n",
    "'''\n",
    "def list_count(lwords):\n",
    "    word_list = [temp for temp in lwords.split(' ')]\n",
    "    print(word_list)\n",
    "    return [len(word) for word in word_list]\n"
   ]
  },
  {
   "cell_type": "code",
   "execution_count": 26,
   "metadata": {},
   "outputs": [
    {
     "name": "stdout",
     "output_type": "stream",
     "text": [
      "['the', 'world', 'is', 'beautiful']\n"
     ]
    },
    {
     "data": {
      "text/plain": [
       "[3, 5, 2, 9]"
      ]
     },
     "execution_count": 26,
     "metadata": {},
     "output_type": "execute_result"
    }
   ],
   "source": [
    "list_count('the world is beautiful')"
   ]
  },
  {
   "cell_type": "code",
   "execution_count": 27,
   "metadata": {},
   "outputs": [],
   "source": [
    "'''\n",
    "Write a Python function which takes a character (i.e. a string of length 1) and returns True if\n",
    "it is a vowel, False otherwise.\n",
    "\n",
    "'''\n",
    "def vowel_isthere():\n",
    "    while True:\n",
    "        string = input(\"Please enter a single character:\")\n",
    "        if len(string) == 1:\n",
    "            if string == 'a' or string == 'e' or string == 'i' or string == 'o' or string == 'u':\n",
    "                return True\n",
    "            else:\n",
    "                return False\n",
    "            "
   ]
  },
  {
   "cell_type": "code",
   "execution_count": 28,
   "metadata": {},
   "outputs": [
    {
     "name": "stdout",
     "output_type": "stream",
     "text": [
      "Please enter a single character:p\n"
     ]
    },
    {
     "data": {
      "text/plain": [
       "False"
      ]
     },
     "execution_count": 28,
     "metadata": {},
     "output_type": "execute_result"
    }
   ],
   "source": [
    "vowel_isthere()"
   ]
  },
  {
   "cell_type": "code",
   "execution_count": 29,
   "metadata": {},
   "outputs": [
    {
     "name": "stdout",
     "output_type": "stream",
     "text": [
      "Please enter a single character:abc\n",
      "Please enter a single character:bc\n",
      "Please enter a single character:a\n"
     ]
    },
    {
     "data": {
      "text/plain": [
       "True"
      ]
     },
     "execution_count": 29,
     "metadata": {},
     "output_type": "execute_result"
    }
   ],
   "source": [
    "vowel_isthere()"
   ]
  },
  {
   "cell_type": "markdown",
   "metadata": {},
   "source": [
    "# 2.5. Problem Statement: PYTHON 5"
   ]
  },
  {
   "cell_type": "code",
   "execution_count": 30,
   "metadata": {},
   "outputs": [],
   "source": [
    "'''\n",
    "Write a function to compute 5/0 and use try/except to catch the exceptions.\n",
    "'''\n",
    "\n",
    "def division(a,b):\n",
    "    while True:\n",
    "        result = 0 \n",
    "        try:\n",
    "            result = a / b\n",
    "        except:\n",
    "            print(\"please enter the b value other than 0.\")\n",
    "            b = int(input(\"Please enter an integer: \"))\n",
    "            continue\n",
    "        else:\n",
    "            print('Yep thats an integer!')\n",
    "            break\n",
    "        finally:\n",
    "            if b != 0:\n",
    "                print(\"Result:\",result)\n"
   ]
  },
  {
   "cell_type": "code",
   "execution_count": 31,
   "metadata": {},
   "outputs": [
    {
     "name": "stdout",
     "output_type": "stream",
     "text": [
      "please enter the b value other than 0.\n",
      "Please enter an integer: 0\n",
      "please enter the b value other than 0.\n",
      "Please enter an integer: 0\n",
      "please enter the b value other than 0.\n",
      "Please enter an integer: 6\n",
      "Result: 0\n",
      "Yep thats an integer!\n",
      "Result: 0.8333333333333334\n"
     ]
    }
   ],
   "source": [
    "division(5,0)"
   ]
  },
  {
   "cell_type": "code",
   "execution_count": 32,
   "metadata": {},
   "outputs": [
    {
     "name": "stdout",
     "output_type": "stream",
     "text": [
      "Americans play Baseball.\n",
      "Americans play Cricket.\n",
      "Americans watch Baseball.\n",
      "Americans watch Cricket.\n",
      "Indians play Baseball.\n",
      "Indians play Cricket.\n",
      "Indians watch Baseball.\n",
      "Indians watch Cricket.\n"
     ]
    }
   ],
   "source": [
    "'''\n",
    "Implement a Python program to generate all sentences where subject is in [\"Americans\",\n",
    "\"Indians\"] and verb is in [\"Play\", \"watch\"] and the object is in [\"Baseball\",\"cricket\"].\n",
    "Hint: Subject,Verb and Object should be declared in the program as shown below.\n",
    "subjects=[\"Americans \",\"Indians\"]\n",
    "verbs=[\"play\",\"watch\"]\n",
    "objects=[\"Baseball\",\"Cricket\"]\n",
    "The Output should be \n",
    "Americans play Baseball.\n",
    "Americans play Cricket.\n",
    "Americans watch Baseball.\n",
    "Americans watch Cricket.\n",
    "Indians play Baseball.\n",
    "Indians play Cricket.\n",
    "Indians watch Baseball.\n",
    "Indians watch Cricket.\n",
    "'''\n",
    "subject = ['Americans','Indians']\n",
    "verb = ['play','watch']\n",
    "object = ['Baseball','Cricket']\n",
    "result = [(sub + \" \" + ver + \" \" + obj + \".\")for sub in subject for ver in verb for obj in object]\n",
    "for sentence in result:\n",
    "    print(sentence)"
   ]
  },
  {
   "cell_type": "code",
   "execution_count": null,
   "metadata": {},
   "outputs": [],
   "source": []
  }
 ],
 "metadata": {
  "kernelspec": {
   "display_name": "Python 3",
   "language": "python",
   "name": "python3"
  },
  "language_info": {
   "codemirror_mode": {
    "name": "ipython",
    "version": 3
   },
   "file_extension": ".py",
   "mimetype": "text/x-python",
   "name": "python",
   "nbconvert_exporter": "python",
   "pygments_lexer": "ipython3",
   "version": "3.7.1"
  }
 },
 "nbformat": 4,
 "nbformat_minor": 2
}
